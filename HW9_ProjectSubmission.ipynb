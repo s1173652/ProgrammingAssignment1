{
  "cells": [
    {
      "cell_type": "markdown",
      "metadata": {
        "id": "view-in-github",
        "colab_type": "text"
      },
      "source": [
        "<a href=\"https://colab.research.google.com/github/s1173652/ProgrammingAssignment1/blob/main/HW9_ProjectSubmission.ipynb\" target=\"_parent\"><img src=\"https://colab.research.google.com/assets/colab-badge.svg\" alt=\"Open In Colab\"/></a>"
      ]
    },
    {
      "cell_type": "code",
      "execution_count": null,
      "metadata": {
        "colab": {
          "base_uri": "https://localhost:8080/"
        },
        "id": "cbhDkTGoznOV",
        "outputId": "95e5a8fc-240e-4b95-b7bf-d0b620113364"
      },
      "outputs": [
        {
          "name": "stdout",
          "output_type": "stream",
          "text": [
            "root\n",
            " |-- userID: integer (nullable = true)\n",
            " |-- trackID: integer (nullable = true)\n",
            " |-- recommendation: string (nullable = true)\n",
            " |-- album: integer (nullable = true)\n",
            " |-- artist: integer (nullable = true)\n",
            " |-- num_genre_ratings: integer (nullable = true)\n",
            " |-- max: integer (nullable = true)\n",
            " |-- min: integer (nullable = true)\n",
            " |-- mean: double (nullable = true)\n",
            " |-- variance: double (nullable = true)\n",
            " |-- median: integer (nullable = true)\n",
            "\n"
          ]
        }
      ],
      "source": [
        "from pyspark.ml.classification import LogisticRegression\n",
        "# please download 'ratings.csv' from week 12 on canvas\n",
        "from pyspark.sql import SparkSession\n",
        "spark = SparkSession.builder.appName('recommend-ML').getOrCreate()\n",
        "df = spark.read.csv('ratings.csv', header = True, inferSchema = True)\n",
        "cols = df.columns\n",
        "df.printSchema()"
      ]
    },
    {
      "cell_type": "code",
      "execution_count": null,
      "metadata": {
        "id": "n33xiWwszteS"
      },
      "outputs": [],
      "source": [
        "from pyspark.ml.feature import OneHotEncoder, StringIndexer, VectorAssembler"
      ]
    },
    {
      "cell_type": "code",
      "execution_count": null,
      "metadata": {
        "id": "KGrx-XK9zzDF"
      },
      "outputs": [],
      "source": [
        "numericCols = ['album', 'artist', 'num_genre_ratings', 'max', 'min', 'mean', 'variance', 'median']\n",
        "stages = []\n",
        "assemblerInputs =  numericCols\n",
        "assembler = VectorAssembler(inputCols=assemblerInputs, outputCol=\"features\")\n",
        "stages += [assembler]"
      ]
    },
    {
      "cell_type": "code",
      "execution_count": null,
      "metadata": {
        "id": "FFf3yjRJ0WpB"
      },
      "outputs": [],
      "source": [
        "label_stringIdx = StringIndexer(inputCol = 'recommendation', outputCol = 'label')\n",
        "stages += [label_stringIdx]"
      ]
    },
    {
      "cell_type": "code",
      "execution_count": null,
      "metadata": {
        "colab": {
          "base_uri": "https://localhost:8080/"
        },
        "id": "BDptrAnT130C",
        "outputId": "a0c391b8-761a-4721-c6f2-d9396b9357e4"
      },
      "outputs": [
        {
          "name": "stdout",
          "output_type": "stream",
          "text": [
            "root\n",
            " |-- label: double (nullable = false)\n",
            " |-- features: vector (nullable = true)\n",
            " |-- userID: integer (nullable = true)\n",
            " |-- trackID: integer (nullable = true)\n",
            " |-- recommendation: string (nullable = true)\n",
            " |-- album: integer (nullable = true)\n",
            " |-- artist: integer (nullable = true)\n",
            " |-- num_genre_ratings: integer (nullable = true)\n",
            " |-- max: integer (nullable = true)\n",
            " |-- min: integer (nullable = true)\n",
            " |-- mean: double (nullable = true)\n",
            " |-- variance: double (nullable = true)\n",
            " |-- median: integer (nullable = true)\n",
            "\n"
          ]
        }
      ],
      "source": [
        "from pyspark.ml import Pipeline\n",
        "pipeline = Pipeline(stages = stages)\n",
        "pipelineModel = pipeline.fit(df)\n",
        "df = pipelineModel.transform(df)\n",
        "selectedCols = ['label', 'features'] + cols\n",
        "df = df.select(selectedCols)\n",
        "df.printSchema()"
      ]
    },
    {
      "cell_type": "code",
      "execution_count": null,
      "metadata": {
        "colab": {
          "base_uri": "https://localhost:8080/",
          "height": 474
        },
        "id": "3aUbKL6_167O",
        "outputId": "cbfcf463-39d9-4ed0-9716-89e9abcdefbf"
      },
      "outputs": [
        {
          "data": {
            "application/vnd.google.colaboratory.intrinsic+json": {
              "summary": "{\n  \"name\": \"pd\",\n  \"rows\": 13,\n  \"fields\": [\n    {\n      \"column\": 0,\n      \"properties\": {\n        \"dtype\": \"string\",\n        \"num_unique_values\": 13,\n        \"samples\": [\n          0.627,\n          0,\n          1.0\n        ],\n        \"semantic_type\": \"\",\n        \"description\": \"\"\n      }\n    },\n    {\n      \"column\": 1,\n      \"properties\": {\n        \"dtype\": \"string\",\n        \"num_unique_values\": 12,\n        \"samples\": [\n          0.351,\n          26.6,\n          1.0\n        ],\n        \"semantic_type\": \"\",\n        \"description\": \"\"\n      }\n    },\n    {\n      \"column\": 2,\n      \"properties\": {\n        \"dtype\": \"string\",\n        \"num_unique_values\": 13,\n        \"samples\": [\n          2.288,\n          168,\n          1.0\n        ],\n        \"semantic_type\": \"\",\n        \"description\": \"\"\n      }\n    },\n    {\n      \"column\": 3,\n      \"properties\": {\n        \"dtype\": \"string\",\n        \"num_unique_values\": 11,\n        \"samples\": [\n          64,\n          0.0,\n          0.672\n        ],\n        \"semantic_type\": \"\",\n        \"description\": \"\"\n      }\n    },\n    {\n      \"column\": 4,\n      \"properties\": {\n        \"dtype\": \"string\",\n        \"num_unique_values\": 13,\n        \"samples\": [\n          0.167,\n          94,\n          0.0\n        ],\n        \"semantic_type\": \"\",\n        \"description\": \"\"\n      }\n    }\n  ]\n}",
              "type": "dataframe"
            },
            "text/html": [
              "\n",
              "  <div id=\"df-3fd458e4-211d-4f4f-9fc8-3a3a87b9ccdc\" class=\"colab-df-container\">\n",
              "    <div>\n",
              "<style scoped>\n",
              "    .dataframe tbody tr th:only-of-type {\n",
              "        vertical-align: middle;\n",
              "    }\n",
              "\n",
              "    .dataframe tbody tr th {\n",
              "        vertical-align: top;\n",
              "    }\n",
              "\n",
              "    .dataframe thead th {\n",
              "        text-align: right;\n",
              "    }\n",
              "</style>\n",
              "<table border=\"1\" class=\"dataframe\">\n",
              "  <thead>\n",
              "    <tr style=\"text-align: right;\">\n",
              "      <th></th>\n",
              "      <th>0</th>\n",
              "      <th>1</th>\n",
              "      <th>2</th>\n",
              "      <th>3</th>\n",
              "      <th>4</th>\n",
              "    </tr>\n",
              "  </thead>\n",
              "  <tbody>\n",
              "    <tr>\n",
              "      <th>label</th>\n",
              "      <td>1.0</td>\n",
              "      <td>1.0</td>\n",
              "      <td>1.0</td>\n",
              "      <td>0.0</td>\n",
              "      <td>0.0</td>\n",
              "    </tr>\n",
              "    <tr>\n",
              "      <th>features</th>\n",
              "      <td>[72.0, 35.0, 6.0, 148.0, 0.0, 33.6, 0.627, 50.0]</td>\n",
              "      <td>[66.0, 29.0, 1.0, 85.0, 0.0, 26.6, 0.351, 31.0]</td>\n",
              "      <td>[40.0, 35.0, 0.0, 137.0, 168.0, 43.1, 2.288, 3...</td>\n",
              "      <td>[64.0, 0.0, 8.0, 183.0, 0.0, 23.3, 0.672, 32.0]</td>\n",
              "      <td>[66.0, 23.0, 1.0, 89.0, 94.0, 28.1, 0.167, 21.0]</td>\n",
              "    </tr>\n",
              "    <tr>\n",
              "      <th>userID</th>\n",
              "      <td>200031</td>\n",
              "      <td>200031</td>\n",
              "      <td>200031</td>\n",
              "      <td>200031</td>\n",
              "      <td>200031</td>\n",
              "    </tr>\n",
              "    <tr>\n",
              "      <th>trackID</th>\n",
              "      <td>30877</td>\n",
              "      <td>8244</td>\n",
              "      <td>34503</td>\n",
              "      <td>130183</td>\n",
              "      <td>198762</td>\n",
              "    </tr>\n",
              "    <tr>\n",
              "      <th>recommendation</th>\n",
              "      <td>yes</td>\n",
              "      <td>yes</td>\n",
              "      <td>yes</td>\n",
              "      <td>no</td>\n",
              "      <td>no</td>\n",
              "    </tr>\n",
              "    <tr>\n",
              "      <th>album</th>\n",
              "      <td>72</td>\n",
              "      <td>66</td>\n",
              "      <td>40</td>\n",
              "      <td>64</td>\n",
              "      <td>66</td>\n",
              "    </tr>\n",
              "    <tr>\n",
              "      <th>artist</th>\n",
              "      <td>35</td>\n",
              "      <td>29</td>\n",
              "      <td>35</td>\n",
              "      <td>0</td>\n",
              "      <td>23</td>\n",
              "    </tr>\n",
              "    <tr>\n",
              "      <th>num_genre_ratings</th>\n",
              "      <td>6</td>\n",
              "      <td>1</td>\n",
              "      <td>0</td>\n",
              "      <td>8</td>\n",
              "      <td>1</td>\n",
              "    </tr>\n",
              "    <tr>\n",
              "      <th>max</th>\n",
              "      <td>148</td>\n",
              "      <td>85</td>\n",
              "      <td>137</td>\n",
              "      <td>183</td>\n",
              "      <td>89</td>\n",
              "    </tr>\n",
              "    <tr>\n",
              "      <th>min</th>\n",
              "      <td>0</td>\n",
              "      <td>0</td>\n",
              "      <td>168</td>\n",
              "      <td>0</td>\n",
              "      <td>94</td>\n",
              "    </tr>\n",
              "    <tr>\n",
              "      <th>mean</th>\n",
              "      <td>33.6</td>\n",
              "      <td>26.6</td>\n",
              "      <td>43.1</td>\n",
              "      <td>23.3</td>\n",
              "      <td>28.1</td>\n",
              "    </tr>\n",
              "    <tr>\n",
              "      <th>variance</th>\n",
              "      <td>0.627</td>\n",
              "      <td>0.351</td>\n",
              "      <td>2.288</td>\n",
              "      <td>0.672</td>\n",
              "      <td>0.167</td>\n",
              "    </tr>\n",
              "    <tr>\n",
              "      <th>median</th>\n",
              "      <td>50</td>\n",
              "      <td>31</td>\n",
              "      <td>33</td>\n",
              "      <td>32</td>\n",
              "      <td>21</td>\n",
              "    </tr>\n",
              "  </tbody>\n",
              "</table>\n",
              "</div>\n",
              "    <div class=\"colab-df-buttons\">\n",
              "\n",
              "  <div class=\"colab-df-container\">\n",
              "    <button class=\"colab-df-convert\" onclick=\"convertToInteractive('df-3fd458e4-211d-4f4f-9fc8-3a3a87b9ccdc')\"\n",
              "            title=\"Convert this dataframe to an interactive table.\"\n",
              "            style=\"display:none;\">\n",
              "\n",
              "  <svg xmlns=\"http://www.w3.org/2000/svg\" height=\"24px\" viewBox=\"0 -960 960 960\">\n",
              "    <path d=\"M120-120v-720h720v720H120Zm60-500h600v-160H180v160Zm220 220h160v-160H400v160Zm0 220h160v-160H400v160ZM180-400h160v-160H180v160Zm440 0h160v-160H620v160ZM180-180h160v-160H180v160Zm440 0h160v-160H620v160Z\"/>\n",
              "  </svg>\n",
              "    </button>\n",
              "\n",
              "  <style>\n",
              "    .colab-df-container {\n",
              "      display:flex;\n",
              "      gap: 12px;\n",
              "    }\n",
              "\n",
              "    .colab-df-convert {\n",
              "      background-color: #E8F0FE;\n",
              "      border: none;\n",
              "      border-radius: 50%;\n",
              "      cursor: pointer;\n",
              "      display: none;\n",
              "      fill: #1967D2;\n",
              "      height: 32px;\n",
              "      padding: 0 0 0 0;\n",
              "      width: 32px;\n",
              "    }\n",
              "\n",
              "    .colab-df-convert:hover {\n",
              "      background-color: #E2EBFA;\n",
              "      box-shadow: 0px 1px 2px rgba(60, 64, 67, 0.3), 0px 1px 3px 1px rgba(60, 64, 67, 0.15);\n",
              "      fill: #174EA6;\n",
              "    }\n",
              "\n",
              "    .colab-df-buttons div {\n",
              "      margin-bottom: 4px;\n",
              "    }\n",
              "\n",
              "    [theme=dark] .colab-df-convert {\n",
              "      background-color: #3B4455;\n",
              "      fill: #D2E3FC;\n",
              "    }\n",
              "\n",
              "    [theme=dark] .colab-df-convert:hover {\n",
              "      background-color: #434B5C;\n",
              "      box-shadow: 0px 1px 3px 1px rgba(0, 0, 0, 0.15);\n",
              "      filter: drop-shadow(0px 1px 2px rgba(0, 0, 0, 0.3));\n",
              "      fill: #FFFFFF;\n",
              "    }\n",
              "  </style>\n",
              "\n",
              "    <script>\n",
              "      const buttonEl =\n",
              "        document.querySelector('#df-3fd458e4-211d-4f4f-9fc8-3a3a87b9ccdc button.colab-df-convert');\n",
              "      buttonEl.style.display =\n",
              "        google.colab.kernel.accessAllowed ? 'block' : 'none';\n",
              "\n",
              "      async function convertToInteractive(key) {\n",
              "        const element = document.querySelector('#df-3fd458e4-211d-4f4f-9fc8-3a3a87b9ccdc');\n",
              "        const dataTable =\n",
              "          await google.colab.kernel.invokeFunction('convertToInteractive',\n",
              "                                                    [key], {});\n",
              "        if (!dataTable) return;\n",
              "\n",
              "        const docLinkHtml = 'Like what you see? Visit the ' +\n",
              "          '<a target=\"_blank\" href=https://colab.research.google.com/notebooks/data_table.ipynb>data table notebook</a>'\n",
              "          + ' to learn more about interactive tables.';\n",
              "        element.innerHTML = '';\n",
              "        dataTable['output_type'] = 'display_data';\n",
              "        await google.colab.output.renderOutput(dataTable, element);\n",
              "        const docLink = document.createElement('div');\n",
              "        docLink.innerHTML = docLinkHtml;\n",
              "        element.appendChild(docLink);\n",
              "      }\n",
              "    </script>\n",
              "  </div>\n",
              "\n",
              "\n",
              "    <div id=\"df-dfd7b949-c2ae-4524-bdb8-4f54491cd35d\">\n",
              "      <button class=\"colab-df-quickchart\" onclick=\"quickchart('df-dfd7b949-c2ae-4524-bdb8-4f54491cd35d')\"\n",
              "                title=\"Suggest charts\"\n",
              "                style=\"display:none;\">\n",
              "\n",
              "<svg xmlns=\"http://www.w3.org/2000/svg\" height=\"24px\"viewBox=\"0 0 24 24\"\n",
              "     width=\"24px\">\n",
              "    <g>\n",
              "        <path d=\"M19 3H5c-1.1 0-2 .9-2 2v14c0 1.1.9 2 2 2h14c1.1 0 2-.9 2-2V5c0-1.1-.9-2-2-2zM9 17H7v-7h2v7zm4 0h-2V7h2v10zm4 0h-2v-4h2v4z\"/>\n",
              "    </g>\n",
              "</svg>\n",
              "      </button>\n",
              "\n",
              "<style>\n",
              "  .colab-df-quickchart {\n",
              "      --bg-color: #E8F0FE;\n",
              "      --fill-color: #1967D2;\n",
              "      --hover-bg-color: #E2EBFA;\n",
              "      --hover-fill-color: #174EA6;\n",
              "      --disabled-fill-color: #AAA;\n",
              "      --disabled-bg-color: #DDD;\n",
              "  }\n",
              "\n",
              "  [theme=dark] .colab-df-quickchart {\n",
              "      --bg-color: #3B4455;\n",
              "      --fill-color: #D2E3FC;\n",
              "      --hover-bg-color: #434B5C;\n",
              "      --hover-fill-color: #FFFFFF;\n",
              "      --disabled-bg-color: #3B4455;\n",
              "      --disabled-fill-color: #666;\n",
              "  }\n",
              "\n",
              "  .colab-df-quickchart {\n",
              "    background-color: var(--bg-color);\n",
              "    border: none;\n",
              "    border-radius: 50%;\n",
              "    cursor: pointer;\n",
              "    display: none;\n",
              "    fill: var(--fill-color);\n",
              "    height: 32px;\n",
              "    padding: 0;\n",
              "    width: 32px;\n",
              "  }\n",
              "\n",
              "  .colab-df-quickchart:hover {\n",
              "    background-color: var(--hover-bg-color);\n",
              "    box-shadow: 0 1px 2px rgba(60, 64, 67, 0.3), 0 1px 3px 1px rgba(60, 64, 67, 0.15);\n",
              "    fill: var(--button-hover-fill-color);\n",
              "  }\n",
              "\n",
              "  .colab-df-quickchart-complete:disabled,\n",
              "  .colab-df-quickchart-complete:disabled:hover {\n",
              "    background-color: var(--disabled-bg-color);\n",
              "    fill: var(--disabled-fill-color);\n",
              "    box-shadow: none;\n",
              "  }\n",
              "\n",
              "  .colab-df-spinner {\n",
              "    border: 2px solid var(--fill-color);\n",
              "    border-color: transparent;\n",
              "    border-bottom-color: var(--fill-color);\n",
              "    animation:\n",
              "      spin 1s steps(1) infinite;\n",
              "  }\n",
              "\n",
              "  @keyframes spin {\n",
              "    0% {\n",
              "      border-color: transparent;\n",
              "      border-bottom-color: var(--fill-color);\n",
              "      border-left-color: var(--fill-color);\n",
              "    }\n",
              "    20% {\n",
              "      border-color: transparent;\n",
              "      border-left-color: var(--fill-color);\n",
              "      border-top-color: var(--fill-color);\n",
              "    }\n",
              "    30% {\n",
              "      border-color: transparent;\n",
              "      border-left-color: var(--fill-color);\n",
              "      border-top-color: var(--fill-color);\n",
              "      border-right-color: var(--fill-color);\n",
              "    }\n",
              "    40% {\n",
              "      border-color: transparent;\n",
              "      border-right-color: var(--fill-color);\n",
              "      border-top-color: var(--fill-color);\n",
              "    }\n",
              "    60% {\n",
              "      border-color: transparent;\n",
              "      border-right-color: var(--fill-color);\n",
              "    }\n",
              "    80% {\n",
              "      border-color: transparent;\n",
              "      border-right-color: var(--fill-color);\n",
              "      border-bottom-color: var(--fill-color);\n",
              "    }\n",
              "    90% {\n",
              "      border-color: transparent;\n",
              "      border-bottom-color: var(--fill-color);\n",
              "    }\n",
              "  }\n",
              "</style>\n",
              "\n",
              "      <script>\n",
              "        async function quickchart(key) {\n",
              "          const quickchartButtonEl =\n",
              "            document.querySelector('#' + key + ' button');\n",
              "          quickchartButtonEl.disabled = true;  // To prevent multiple clicks.\n",
              "          quickchartButtonEl.classList.add('colab-df-spinner');\n",
              "          try {\n",
              "            const charts = await google.colab.kernel.invokeFunction(\n",
              "                'suggestCharts', [key], {});\n",
              "          } catch (error) {\n",
              "            console.error('Error during call to suggestCharts:', error);\n",
              "          }\n",
              "          quickchartButtonEl.classList.remove('colab-df-spinner');\n",
              "          quickchartButtonEl.classList.add('colab-df-quickchart-complete');\n",
              "        }\n",
              "        (() => {\n",
              "          let quickchartButtonEl =\n",
              "            document.querySelector('#df-dfd7b949-c2ae-4524-bdb8-4f54491cd35d button');\n",
              "          quickchartButtonEl.style.display =\n",
              "            google.colab.kernel.accessAllowed ? 'block' : 'none';\n",
              "        })();\n",
              "      </script>\n",
              "    </div>\n",
              "\n",
              "    </div>\n",
              "  </div>\n"
            ],
            "text/plain": [
              "                                                                  0  \\\n",
              "label                                                           1.0   \n",
              "features           [72.0, 35.0, 6.0, 148.0, 0.0, 33.6, 0.627, 50.0]   \n",
              "userID                                                       200031   \n",
              "trackID                                                       30877   \n",
              "recommendation                                                  yes   \n",
              "album                                                            72   \n",
              "artist                                                           35   \n",
              "num_genre_ratings                                                 6   \n",
              "max                                                             148   \n",
              "min                                                               0   \n",
              "mean                                                           33.6   \n",
              "variance                                                      0.627   \n",
              "median                                                           50   \n",
              "\n",
              "                                                                 1  \\\n",
              "label                                                          1.0   \n",
              "features           [66.0, 29.0, 1.0, 85.0, 0.0, 26.6, 0.351, 31.0]   \n",
              "userID                                                      200031   \n",
              "trackID                                                       8244   \n",
              "recommendation                                                 yes   \n",
              "album                                                           66   \n",
              "artist                                                          29   \n",
              "num_genre_ratings                                                1   \n",
              "max                                                             85   \n",
              "min                                                              0   \n",
              "mean                                                          26.6   \n",
              "variance                                                     0.351   \n",
              "median                                                          31   \n",
              "\n",
              "                                                                   2  \\\n",
              "label                                                            1.0   \n",
              "features           [40.0, 35.0, 0.0, 137.0, 168.0, 43.1, 2.288, 3...   \n",
              "userID                                                        200031   \n",
              "trackID                                                        34503   \n",
              "recommendation                                                   yes   \n",
              "album                                                             40   \n",
              "artist                                                            35   \n",
              "num_genre_ratings                                                  0   \n",
              "max                                                              137   \n",
              "min                                                              168   \n",
              "mean                                                            43.1   \n",
              "variance                                                       2.288   \n",
              "median                                                            33   \n",
              "\n",
              "                                                                 3  \\\n",
              "label                                                          0.0   \n",
              "features           [64.0, 0.0, 8.0, 183.0, 0.0, 23.3, 0.672, 32.0]   \n",
              "userID                                                      200031   \n",
              "trackID                                                     130183   \n",
              "recommendation                                                  no   \n",
              "album                                                           64   \n",
              "artist                                                           0   \n",
              "num_genre_ratings                                                8   \n",
              "max                                                            183   \n",
              "min                                                              0   \n",
              "mean                                                          23.3   \n",
              "variance                                                     0.672   \n",
              "median                                                          32   \n",
              "\n",
              "                                                                  4  \n",
              "label                                                           0.0  \n",
              "features           [66.0, 23.0, 1.0, 89.0, 94.0, 28.1, 0.167, 21.0]  \n",
              "userID                                                       200031  \n",
              "trackID                                                      198762  \n",
              "recommendation                                                   no  \n",
              "album                                                            66  \n",
              "artist                                                           23  \n",
              "num_genre_ratings                                                 1  \n",
              "max                                                              89  \n",
              "min                                                              94  \n",
              "mean                                                           28.1  \n",
              "variance                                                      0.167  \n",
              "median                                                           21  "
            ]
          },
          "execution_count": 14,
          "metadata": {},
          "output_type": "execute_result"
        }
      ],
      "source": [
        "import pandas as pd\n",
        "pd.DataFrame(df.take(5), columns=df.columns).transpose()"
      ]
    },
    {
      "cell_type": "code",
      "execution_count": null,
      "metadata": {
        "colab": {
          "base_uri": "https://localhost:8080/"
        },
        "id": "LqKFg4m01_5R",
        "outputId": "00517a6d-87e8-4eeb-edbd-21eb76894329"
      },
      "outputs": [
        {
          "name": "stdout",
          "output_type": "stream",
          "text": [
            "Training Dataset Count: 468\n",
            "Test Dataset Count: 300\n"
          ]
        }
      ],
      "source": [
        "# we split the last 76 users X 6 tracks = 468 records as the training\n",
        "# the first 50 users X 6 tracks = 300 records as the testing\n",
        "train = df.where(col(\"userID\").between(200596, 201720))\n",
        "test = df.where(col(\"userID\").between(200031, 200563))\n",
        "print(\"Training Dataset Count: \" + str(train.count()))\n",
        "print(\"Test Dataset Count: \" + str(test.count()))"
      ]
    },
    {
      "cell_type": "code",
      "execution_count": null,
      "metadata": {
        "id": "o4uxLNZM2GiP"
      },
      "outputs": [],
      "source": [
        "# logistic regression in pySpark\n",
        "from pyspark.ml.classification import LogisticRegression\n",
        "lr = LogisticRegression(featuresCol = 'features', labelCol = 'label', maxIter=3)\n",
        "lrModel = lr.fit(train)"
      ]
    },
    {
      "cell_type": "code",
      "execution_count": null,
      "metadata": {
        "colab": {
          "base_uri": "https://localhost:8080/",
          "height": 430
        },
        "id": "f1Jh3AeF2ODx",
        "outputId": "d55841dc-6cef-4778-f80f-8c45f3a3ce95"
      },
      "outputs": [
        {
          "data": {
            "image/png": "[encoded data removed]",
            "text/plain": [
              "<Figure size 640x480 with 1 Axes>"
            ]
          },
          "metadata": {},
          "output_type": "display_data"
        }
      ],
      "source": [
        "import matplotlib.pyplot as plt\n",
        "import numpy as np\n",
        "beta = np.sort(lrModel.coefficients)\n",
        "plt.plot(beta)\n",
        "plt.ylabel('Beta Coefficients')\n",
        "plt.show()"
      ]
    },
    {
      "cell_type": "code",
      "execution_count": null,
      "metadata": {
        "colab": {
          "base_uri": "https://localhost:8080/",
          "height": 490
        },
        "id": "26LBjcSr2PaS",
        "outputId": "c42ebb8c-15b2-447a-e1fa-c1c6b8f69062"
      },
      "outputs": [
        {
          "data": {
            "image/png": "[encoded data removed]",
            "text/plain": [
              "<Figure size 640x480 with 1 Axes>"
            ]
          },
          "metadata": {},
          "output_type": "display_data"
        },
        {
          "name": "stdout",
          "output_type": "stream",
          "text": [
            "Training set areaUnderROC: 0.565983636496457\n"
          ]
        }
      ],
      "source": [
        "trainingSummary = lrModel.summary\n",
        "roc = trainingSummary.roc.toPandas()\n",
        "plt.plot(roc['FPR'],roc['TPR'])\n",
        "plt.ylabel('False Positive Rate')\n",
        "plt.xlabel('True Positive Rate')\n",
        "plt.title('ROC Curve')\n",
        "plt.show()\n",
        "print('Training set areaUnderROC: ' + str(trainingSummary.areaUnderROC))"
      ]
    },
    {
      "cell_type": "code",
      "execution_count": null,
      "metadata": {
        "colab": {
          "base_uri": "https://localhost:8080/"
        },
        "id": "SI1lk_jX2S2N",
        "outputId": "3fc66097-cb11-4299-f498-8728d8b08106"
      },
      "outputs": [
        {
          "name": "stdout",
          "output_type": "stream",
          "text": [
            "+------+-------+-----+--------------------+--------------------+----------+\n",
            "|userID|trackID|label|         probability|       rawPrediction|prediction|\n",
            "+------+-------+-----+--------------------+--------------------+----------+\n",
            "|200031|  30877|  1.0|[0.49780118409754...|[-0.0087953203081...|       1.0|\n",
            "|200031|   8244|  1.0|[0.55448314345773...|[0.21880132324172...|       0.0|\n",
            "|200031|  34503|  1.0|[0.53555038969029...|[0.14244191305826...|       0.0|\n",
            "|200031| 130183|  0.0|[0.47073161773969...|[-0.1172075241770...|       1.0|\n",
            "|200031| 198762|  0.0|[0.50318268623581...|[0.01273091688875...|       0.0|\n",
            "|200031| 227283|  0.0|[0.53390504652243...|[0.13582863145187...|       0.0|\n",
            "|200032|  18681|  1.0|[0.33961538265747...|[-0.6650086690234...|       1.0|\n",
            "|200032| 138493|  1.0|[0.64666669876599...|[0.60441920543654...|       0.0|\n",
            "|200032|  64167|  1.0|[0.55241387842743...|[0.21042857545233...|       0.0|\n",
            "|200032| 218377|  0.0|[0.46714767918523...|[-0.1315988769347...|       1.0|\n",
            "|200032| 110262|  0.0|[0.33391906381239...|[-0.6905125492674...|       1.0|\n",
            "|200032|  22820|  0.0|[0.44796803856147...|[-0.2088840583843...|       1.0|\n",
            "+------+-------+-----+--------------------+--------------------+----------+\n",
            "only showing top 12 rows\n",
            "\n"
          ]
        }
      ],
      "source": [
        "predictions = lrModel.transform(test)\n",
        "predictions.select('userID', 'trackID', 'label', 'probability',\n",
        "                   'rawPrediction', 'prediction' ).show(12)"
      ]
    },
    {
      "cell_type": "code",
      "execution_count": null,
      "metadata": {
        "colab": {
          "background_save": true,
          "base_uri": "https://localhost:8080/"
        },
        "id": "TUiqXUPG2WFA",
        "outputId": "8e3009a8-7acc-45f1-b361-51879129c7c9"
      },
      "outputs": [
        {
          "name": "stdout",
          "output_type": "stream",
          "text": [
            "+------+-------+-----+--------------------+--------------------+----------+\n",
            "|userID|trackID|label|         probability|       rawPrediction|prediction|\n",
            "+------+-------+-----+--------------------+--------------------+----------+\n",
            "|200031|   8244|  1.0|[0.55448314345773...|[0.21880132324172...|       0.0|\n",
            "|200031|  34503|  1.0|[0.53555038969029...|[0.14244191305826...|       0.0|\n",
            "|200031| 227283|  0.0|[0.53390504652243...|[0.13582863145187...|       0.0|\n",
            "|200031| 198762|  0.0|[0.50318268623581...|[0.01273091688875...|       0.0|\n",
            "|200031|  30877|  1.0|[0.49780118409754...|[-0.0087953203081...|       1.0|\n",
            "|200031| 130183|  0.0|[0.47073161773969...|[-0.1172075241770...|       1.0|\n",
            "+------+-------+-----+--------------------+--------------------+----------+\n",
            "only showing top 6 rows\n",
            "\n"
          ]
        }
      ],
      "source": []
    },
    {
      "cell_type": "code",
      "source": [],
      "metadata": {
        "id": "vvKLTiGjr0zn"
      },
      "execution_count": null,
      "outputs": []
    },
    {
      "cell_type": "code",
      "source": [],
      "metadata": {
        "id": "3vqEurOUr1SG"
      },
      "execution_count": null,
      "outputs": []
    },
    {
      "cell_type": "code",
      "execution_count": null,
      "metadata": {
        "colab": {
          "base_uri": "https://localhost:8080/"
        },
        "id": "Rbpeb8OQ2h5R",
        "outputId": "b3aea015-4529-48ab-c304-876a281c4693"
      },
      "outputs": [
        {
          "name": "stdout",
          "output_type": "stream",
          "text": [
            "+------+-------+-----+--------------------+-------------+----------+\n",
            "|userID|trackID|label|         probability|rawPrediction|prediction|\n",
            "+------+-------+-----+--------------------+-------------+----------+\n",
            "|200031|  30877|  1.0|[0.63235294117647...|  [43.0,25.0]|       0.0|\n",
            "|200031|   8244|  1.0|[0.43956043956043...|  [40.0,51.0]|       1.0|\n",
            "|200031| 198762|  0.0|[0.43956043956043...|  [40.0,51.0]|       1.0|\n",
            "|200031|  34503|  1.0|[0.42570281124497...|[106.0,143.0]|       1.0|\n",
            "|200031| 130183|  0.0|[0.42570281124497...|[106.0,143.0]|       1.0|\n",
            "|200031| 227283|  0.0|[0.42570281124497...|[106.0,143.0]|       1.0|\n",
            "+------+-------+-----+--------------------+-------------+----------+\n",
            "only showing top 6 rows\n",
            "\n"
          ]
        }
      ],
      "source": [
        "# decision tree classifier in pySpark\n",
        "\n",
        "from pyspark.ml.classification import DecisionTreeClassifier\n",
        "dt = DecisionTreeClassifier(featuresCol = 'features', labelCol = 'label',maxDepth = 3)\n",
        "dtModel = dt.fit(train)\n",
        "predictions = dtModel.transform(test)\n",
        "sort_predictions = predictions.select('userID', 'trackID',\n",
        "                   'label', 'probability',\n",
        "                   'rawPrediction', 'prediction' ).sort(col(\"userID\").asc(), col(\"probability\").desc())\n",
        "sort_predictions.show(6)"
      ]
    },
    {
      "cell_type": "code",
      "execution_count": null,
      "metadata": {
        "colab": {
          "base_uri": "https://localhost:8080/"
        },
        "id": "elmttU-i2jG7",
        "outputId": "ba686e49-c2ef-4bd4-e32c-854135549213"
      },
      "outputs": [
        {
          "name": "stdout",
          "output_type": "stream",
          "text": [
            "+------+-------+-----+--------------------+--------------------+----------+\n",
            "|userID|trackID|label|         probability|       rawPrediction|prediction|\n",
            "+------+-------+-----+--------------------+--------------------+----------+\n",
            "|200031| 130183|  0.0|[0.54362040499492...|[10.8724080998985...|       0.0|\n",
            "|200031|  30877|  1.0|[0.53002184832900...|[10.6004369665800...|       0.0|\n",
            "|200031| 227283|  0.0|[0.52761509439560...|[10.5523018879121...|       0.0|\n",
            "|200031|   8244|  1.0|[0.41083412674424...|[8.21668253488486...|       1.0|\n",
            "|200031|  34503|  1.0|[0.37640300261623...|[7.52806005232475...|       1.0|\n",
            "|200031| 198762|  0.0|[0.36969907096539...|[7.39398141930799...|       1.0|\n",
            "+------+-------+-----+--------------------+--------------------+----------+\n",
            "only showing top 6 rows\n",
            "\n"
          ]
        }
      ],
      "source": [
        "# random forest classifier in pySpark\n",
        "\n",
        "from pyspark.ml.classification import RandomForestClassifier\n",
        "rf = RandomForestClassifier(featuresCol = 'features', labelCol = 'label')\n",
        "rfModel = rf.fit(train)\n",
        "predictions = rfModel.transform(test)\n",
        "sort_predictions = predictions.select('userID', 'trackID',\n",
        "                   'label', 'probability',\n",
        "                   'rawPrediction', 'prediction' ).sort(col(\"userID\").asc(), col(\"probability\").desc())\n",
        "sort_predictions.show(6)"
      ]
    },
    {
      "cell_type": "code",
      "execution_count": null,
      "metadata": {
        "colab": {
          "base_uri": "https://localhost:8080/"
        },
        "id": "hMIvfCRc2mPZ",
        "outputId": "e92d0b5d-5cb5-45c3-c8df-e5348f399687"
      },
      "outputs": [
        {
          "name": "stdout",
          "output_type": "stream",
          "text": [
            "+------+-------+-----+--------------------+--------------------+----------+\n",
            "|userID|trackID|label|         probability|       rawPrediction|prediction|\n",
            "+------+-------+-----+--------------------+--------------------+----------+\n",
            "|200031|  30877|  1.0|[0.52917232203789...|[0.05841098324244...|       0.0|\n",
            "|200031| 227283|  0.0|[0.46256860871825...|[-0.0750031093011...|       1.0|\n",
            "|200031| 198762|  0.0|[0.43072480054328...|[-0.1394472997190...|       1.0|\n",
            "|200031| 130183|  0.0|[0.41254384931646...|[-0.1767295523000...|       1.0|\n",
            "|200031|   8244|  1.0|[0.30000446137460...|[-0.4236383079182...|       1.0|\n",
            "|200031|  34503|  1.0|[0.16256856228697...|[-0.8196197801894...|       1.0|\n",
            "+------+-------+-----+--------------------+--------------------+----------+\n",
            "only showing top 6 rows\n",
            "\n"
          ]
        }
      ],
      "source": [
        "# Gradient-Boosted Tree Classifier\n",
        "\n",
        "from pyspark.ml.classification import GBTClassifier\n",
        "gbt = GBTClassifier(maxIter=10)\n",
        "gbtModel = gbt.fit(train)\n",
        "predictions = gbtModel.transform(test)\n",
        "sort_predictions = predictions.select('userID', 'trackID',\n",
        "                   'label', 'probability',\n",
        "                   'rawPrediction', 'prediction' ).sort(col(\"userID\").asc(), col(\"probability\").desc())\n",
        "sort_predictions.show(6)"
      ]
    }
  ],
  "metadata": {
    "colab": {
      "provenance": [],
      "authorship_tag": "ABX9TyMReLag1cFRr06D5yKslZ5/",
      "include_colab_link": true
    },
    "kernelspec": {
      "display_name": "Python 3",
      "name": "python3"
    },
    "language_info": {
      "name": "python"
    }
  },
  "nbformat": 4,
  "nbformat_minor": 0
}